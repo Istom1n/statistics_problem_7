{
 "cells": [
  {
   "attachments": {},
   "cell_type": "markdown",
   "metadata": {},
   "source": [
    "# Written by Ivan Istomin BPI154\n",
    "## 2 variant\n",
    "\n",
    "### Задание\n",
    "В таблице с данными содержатся координаты x и y точек некоторого изображения (давайте считать, что это обработанное фото трёх монеток с зашумлением). Примените к данным вашего варианта метод k-средних, перебирая число кластеров k = 2, 3, 4. Для каждого k изобразите полученное разбиение на графике, выделяя кластеры разными цветами. По графикам оцените, насколько удалось распознать образы монеток.\n",
    "\n",
    "### Решение\n",
    "Данные для 2 варианта задания:"
   ]
  },
  {
   "cell_type": "code",
   "execution_count": 2,
   "metadata": {
    "collapsed": true
   },
   "outputs": [],
   "source": [
    "from pylab import plot, show\n",
    "from numpy import column_stack, array\n",
    "from scipy.cluster.vq import kmeans, vq\n",
    "\n",
    "# Data\n",
    "x = [70, 88, 37, 94, 51, 84, 68, 29, 2, 41, 15, 77, 94, 28, 95, 12, 83, 21, 22, 23, 24, 19, 20, 21, 22, 23, 24, 25,\n",
    "     26, 18, 19, 20, 21, 22, 23, 24, 25, 26, 27, 18, 19, 20, 21, 22, 23, 24, 25, 26, 27, 96, 17, 18, 19, 20, 21, 22,\n",
    "     23, 24, 25, 26, 27, 28, 17, 18, 19, 20, 21, 22, 23, 24, 25, 26, 27, 28, 17, 18, 19, 20, 21, 22, 23, 24, 25, 26,\n",
    "     27, 28, 17, 18, 19, 20, 21, 22, 23, 24, 25, 26, 27, 28, 18, 19, 20, 21, 22, 23, 24, 25, 26, 27, 18, 19, 20, 21,\n",
    "     22, 23, 24, 25, 26, 27, 53, 54, 19, 20, 21, 22, 23, 24, 25, 26, 76, 21, 22, 23, 24, 9, 61, 13, 35, 85, 0, 25, 70,\n",
    "     79, 23, 43, 4, 57, 30, 35, 89, 90, 91, 33, 87, 88, 89, 90, 91, 92, 93, 75, 86, 87, 88, 89, 90, 91, 92, 93, 94, 85,\n",
    "     86, 87, 88, 89, 90, 91, 92, 93, 94, 95, 82, 85, 86, 87, 88, 89, 90, 91, 92, 93, 94, 95, 84, 85, 86, 87, 88, 89,\n",
    "     90, 91, 92, 93, 94, 95, 84, 85, 86, 87, 88, 89, 90, 91, 92, 93, 94, 95, 85, 86, 87, 88, 89, 90, 91, 92, 93, 94,\n",
    "     95, 6, 85, 86, 87, 88, 89, 90, 91, 92, 93, 94, 95, 85, 86, 87, 88, 89, 90, 91, 92, 93, 94, 86, 87, 89, 90, 91,\n",
    "     92, 93, 94, 87, 88, 89, 90, 91, 92, 46, 30, 4, 56, 57, 58, 59, 60, 61, 55, 56, 57, 58, 59, 60, 61, 62, 54, 55,\n",
    "     56, 57, 58, 59, 60, 61, 62, 63, 88, 53, 54, 55, 56, 57, 58, 59, 60, 61, 62, 63, 64, 3, 53, 54, 55, 56, 57, 58,\n",
    "     59, 60, 61, 62, 63, 64, 15, 53, 54, 55, 56, 57, 58, 59, 60, 61, 62, 63, 64, 26, 53, 54, 55, 56, 57, 58, 59, 60,\n",
    "     61, 62, 63, 64, 53, 54, 55, 56, 58, 59, 60, 61, 62, 63, 64]\n",
    "y = [0, 0, 2, 2, 3, 4, 5, 6, 7, 7, 9, 10, 10, 11, 12, 17, 22, 33, 33, 33, 33, 34, 34, 34, 34, 34, 34, 34, 34, 35, 35,\n",
    "     35, 35, 35, 35, 35, 35, 35, 35, 36, 36, 36, 36, 36, 36, 36, 36, 36, 36, 36, 37, 37, 37, 37, 37, 37, 37, 37, 37,\n",
    "     37, 37, 37, 38, 38, 38, 38, 38, 38, 38, 38, 38, 38, 38, 38, 39, 39, 39, 39, 39, 39, 39, 39, 39, 39, 39, 39, 40,\n",
    "     40, 40, 40, 40, 40, 40, 40, 40, 40, 40, 40, 41, 41, 41, 41, 41, 41, 41, 41, 41, 41, 42, 42, 42, 42, 42, 42, 42,\n",
    "     42, 42, 42, 42, 42, 43, 43, 43, 43, 43, 43, 43, 43, 43, 44, 44, 44, 44, 46, 46, 47, 48, 50, 52, 52, 52, 56, 59,\n",
    "     62, 63, 64, 67, 69, 72, 72, 72, 73, 73, 73, 73, 73, 73, 73, 73, 74, 74, 74, 74, 74, 74, 74, 74, 74, 74, 75, 75,\n",
    "     75, 75, 75, 75, 75, 75, 75, 75, 75, 76, 76, 76, 76, 76, 76, 76, 76, 76, 76, 76, 76, 77, 77, 77, 77, 77, 77, 77,\n",
    "     77, 77, 77, 77, 77, 78, 78, 78, 78, 78, 78, 78, 78, 78, 78, 78, 78, 79, 79, 79, 79, 79, 79, 79, 79, 79, 79, 79,\n",
    "     80, 80, 80, 80, 80, 80, 80, 80, 80, 80, 80, 80, 81, 81, 81, 81, 81, 81, 81, 81, 81, 81, 82, 82, 82, 82, 82, 82,\n",
    "     82, 82, 83, 83, 83, 83, 83, 83, 85, 87, 91, 92, 92, 92, 92, 92, 92, 93, 93, 93, 93, 93, 93, 93, 93, 94, 94, 94,\n",
    "     94, 94, 94, 94, 94, 94, 94, 94, 95, 95, 95, 95, 95, 95, 95, 95, 95, 95, 95, 95, 96, 96, 96, 96, 96, 96, 96, 96,\n",
    "     96, 96, 96, 96, 96, 97, 97, 97, 97, 97, 97, 97, 97, 97, 97, 97, 97, 97, 98, 98, 98, 98, 98, 98, 98, 98, 98, 98,\n",
    "     98, 98, 98, 99, 99, 99, 99, 99, 99, 99, 99, 99, 99, 99]"
   ]
  },
  {
   "cell_type": "markdown",
   "metadata": {},
   "source": [
    "### Для K = 2 (два кластера)\n",
    "\n",
    "Приведем наши данные в вид [[x, y], [еще одна точка], ...], найдем центры кластеров (группы) и приравняем наши точки к ним:"
   ]
  },
  {
   "cell_type": "code",
   "execution_count": 4,
   "metadata": {},
   "outputs": [
    {
     "data": {
      "image/png": "[encoded data removed]",
      "text/plain": [
       "<matplotlib.figure.Figure at 0x108e45710>"
      ]
     },
     "metadata": {},
     "output_type": "display_data"
    }
   ],
   "source": [
    "# Change data format\n",
    "data = column_stack((x, y))\n",
    "\n",
    "# Computing K-Means with K = 2 (2 clusters)\n",
    "centroids,_ = kmeans(data.astype(float), 2)\n",
    "\n",
    "# Assign each sample to a cluster\n",
    "idx,_ = vq(data, centroids)\n",
    "\n",
    "# Some plotting using numpy's logical indexing\n",
    "plot(data[idx == 0,0], data[idx == 0,1], 'ob',\n",
    "     data[idx == 1,0], data[idx == 1,1], 'or')\n",
    "\n",
    "plot(centroids[:,0], centroids[:,1], 'sg', markersize = 8)\n",
    "\n",
    "show()"
   ]
  },
  {
   "cell_type": "markdown",
   "metadata": {
    "collapsed": true
   },
   "source": [
    "### Для K = 3 (три группы)"
   ]
  },
  {
   "cell_type": "code",
   "execution_count": 5,
   "metadata": {},
   "outputs": [
    {
     "data": {
      "image/png": "[encoded data removed]",
      "text/plain": [
       "<matplotlib.figure.Figure at 0x1080ee518>"
      ]
     },
     "metadata": {},
     "output_type": "display_data"
    }
   ],
   "source": [
    "# Computing K-Means with K = 3 (3 clusters)\n",
    "centroids,_ = kmeans(data.astype(float), 3)\n",
    "\n",
    "# Assign each sample to a cluster\n",
    "idx,_ = vq(data, centroids)\n",
    "\n",
    "# Some plotting using numpy's logical indexing\n",
    "plot(data[idx == 0,0], data[idx == 0,1], 'ob',\n",
    "     data[idx == 1,0], data[idx == 1,1], 'or')\n",
    "\n",
    "plot(centroids[:,0], centroids[:,1], 'sg', markersize = 8)\n",
    "\n",
    "show()"
   ]
  },
  {
   "cell_type": "markdown",
   "metadata": {},
   "source": [
    "### Для K = 4 (четыре группы)"
   ]
  },
  {
   "cell_type": "code",
   "execution_count": 6,
   "metadata": {},
   "outputs": [
    {
     "data": {
      "image/png": "[encoded data removed]",
      "text/plain": [
       "<matplotlib.figure.Figure at 0x1080e06a0>"
      ]
     },
     "metadata": {},
     "output_type": "display_data"
    }
   ],
   "source": [
    "# Computing K-Means with K =4 (4 clusters)\n",
    "centroids,_ = kmeans(data.astype(float), 4)\n",
    "\n",
    "# Assign each sample to a cluster\n",
    "idx,_ = vq(data, centroids)\n",
    "\n",
    "# Some plotting using numpy's logical indexing\n",
    "plot(data[idx == 0,0], data[idx == 0,1], 'ob',\n",
    "     data[idx == 1,0], data[idx == 1,1], 'or')\n",
    "\n",
    "plot(centroids[:,0], centroids[:,1], 'sg', markersize = 8)\n",
    "\n",
    "show()"
   ]
  },
  {
   "cell_type": "markdown",
   "metadata": {},
   "source": [
    "### Итог\n",
    "\n",
    "Разбив на 2 кластера наши данные мы можем увидеть все три монетки, разбив на 3, уже только две, на 4 тоже только 2.\n",
    "Отчетливо видно, что данные хорошо рабиваются на два кластера (группы)."
   ]
  }
 ],
 "metadata": {
  "kernelspec": {
   "display_name": "Python 3",
   "language": "python",
   "name": "python3"
  },
  "language_info": {
   "codemirror_mode": {
    "name": "ipython",
    "version": 3
   },
   "file_extension": ".py",
   "mimetype": "text/x-python",
   "name": "python",
   "nbconvert_exporter": "python",
   "pygments_lexer": "ipython3",
   "version": "3.5.2"
  }
 },
 "nbformat": 4,
 "nbformat_minor": 2
}
